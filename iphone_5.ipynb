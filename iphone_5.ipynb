{
 "cells": [
  {
   "cell_type": "code",
   "execution_count": 1,
   "id": "9f14190c-0f26-4a42-9bc4-69ae6e3369e0",
   "metadata": {},
   "outputs": [],
   "source": [
    "import pandas as pd"
   ]
  },
  {
   "cell_type": "code",
   "execution_count": 2,
   "id": "74e83c53-4377-40be-97e7-719524c30607",
   "metadata": {},
   "outputs": [],
   "source": [
    "df = pd.read_csv('iphone.csv')"
   ]
  },
  {
   "cell_type": "code",
   "execution_count": 3,
   "id": "9f826cf4-5891-4a5b-b805-6bb5dab3cfac",
   "metadata": {},
   "outputs": [
    {
     "data": {
      "text/html": [
       "<div>\n",
       "<style scoped>\n",
       "    .dataframe tbody tr th:only-of-type {\n",
       "        vertical-align: middle;\n",
       "    }\n",
       "\n",
       "    .dataframe tbody tr th {\n",
       "        vertical-align: top;\n",
       "    }\n",
       "\n",
       "    .dataframe thead th {\n",
       "        text-align: right;\n",
       "    }\n",
       "</style>\n",
       "<table border=\"1\" class=\"dataframe\">\n",
       "  <thead>\n",
       "    <tr style=\"text-align: right;\">\n",
       "      <th></th>\n",
       "      <th>Product Name</th>\n",
       "      <th>Product URL</th>\n",
       "      <th>Brand</th>\n",
       "      <th>Sale Price</th>\n",
       "      <th>Mrp</th>\n",
       "      <th>Number Of Ratings</th>\n",
       "      <th>Number Of Reviews</th>\n",
       "      <th>Upc</th>\n",
       "      <th>Star Rating</th>\n",
       "      <th>Ram</th>\n",
       "    </tr>\n",
       "  </thead>\n",
       "  <tbody>\n",
       "    <tr>\n",
       "      <th>0</th>\n",
       "      <td>APPLE iPhone 8 Plus (Gold, 64 GB)</td>\n",
       "      <td>https://www.flipkart.com/apple-iphone-8-plus-g...</td>\n",
       "      <td>Apple</td>\n",
       "      <td>49900</td>\n",
       "      <td>49900</td>\n",
       "      <td>3431</td>\n",
       "      <td>356</td>\n",
       "      <td>MOBEXRGV7EHHTGUH</td>\n",
       "      <td>4.6</td>\n",
       "      <td>2 GB</td>\n",
       "    </tr>\n",
       "    <tr>\n",
       "      <th>1</th>\n",
       "      <td>APPLE iPhone 8 Plus (Space Grey, 256 GB)</td>\n",
       "      <td>https://www.flipkart.com/apple-iphone-8-plus-s...</td>\n",
       "      <td>Apple</td>\n",
       "      <td>84900</td>\n",
       "      <td>84900</td>\n",
       "      <td>3431</td>\n",
       "      <td>356</td>\n",
       "      <td>MOBEXRGVAC6TJT4F</td>\n",
       "      <td>4.6</td>\n",
       "      <td>2 GB</td>\n",
       "    </tr>\n",
       "    <tr>\n",
       "      <th>2</th>\n",
       "      <td>APPLE iPhone 8 Plus (Silver, 256 GB)</td>\n",
       "      <td>https://www.flipkart.com/apple-iphone-8-plus-s...</td>\n",
       "      <td>Apple</td>\n",
       "      <td>84900</td>\n",
       "      <td>84900</td>\n",
       "      <td>3431</td>\n",
       "      <td>356</td>\n",
       "      <td>MOBEXRGVGETABXWZ</td>\n",
       "      <td>4.6</td>\n",
       "      <td>2 GB</td>\n",
       "    </tr>\n",
       "    <tr>\n",
       "      <th>3</th>\n",
       "      <td>APPLE iPhone 8 (Silver, 256 GB)</td>\n",
       "      <td>https://www.flipkart.com/apple-iphone-8-silver...</td>\n",
       "      <td>Apple</td>\n",
       "      <td>77000</td>\n",
       "      <td>77000</td>\n",
       "      <td>11202</td>\n",
       "      <td>794</td>\n",
       "      <td>MOBEXRGVMZWUHCBA</td>\n",
       "      <td>NaN</td>\n",
       "      <td>2 GB</td>\n",
       "    </tr>\n",
       "    <tr>\n",
       "      <th>4</th>\n",
       "      <td>APPLE iPhone 8 (Gold, 256 GB)</td>\n",
       "      <td>https://www.flipkart.com/apple-iphone-8-gold-2...</td>\n",
       "      <td>Apple</td>\n",
       "      <td>77000</td>\n",
       "      <td>77000</td>\n",
       "      <td>11202</td>\n",
       "      <td>794</td>\n",
       "      <td>MOBEXRGVPK7PFEJZ</td>\n",
       "      <td>4.5</td>\n",
       "      <td>2 GB</td>\n",
       "    </tr>\n",
       "  </tbody>\n",
       "</table>\n",
       "</div>"
      ],
      "text/plain": [
       "                               Product Name  \\\n",
       "0         APPLE iPhone 8 Plus (Gold, 64 GB)   \n",
       "1  APPLE iPhone 8 Plus (Space Grey, 256 GB)   \n",
       "2      APPLE iPhone 8 Plus (Silver, 256 GB)   \n",
       "3           APPLE iPhone 8 (Silver, 256 GB)   \n",
       "4             APPLE iPhone 8 (Gold, 256 GB)   \n",
       "\n",
       "                                         Product URL  Brand  Sale Price  \\\n",
       "0  https://www.flipkart.com/apple-iphone-8-plus-g...  Apple       49900   \n",
       "1  https://www.flipkart.com/apple-iphone-8-plus-s...  Apple       84900   \n",
       "2  https://www.flipkart.com/apple-iphone-8-plus-s...  Apple       84900   \n",
       "3  https://www.flipkart.com/apple-iphone-8-silver...  Apple       77000   \n",
       "4  https://www.flipkart.com/apple-iphone-8-gold-2...  Apple       77000   \n",
       "\n",
       "     Mrp  Number Of Ratings  Number Of Reviews               Upc  Star Rating  \\\n",
       "0  49900               3431                356  MOBEXRGV7EHHTGUH          4.6   \n",
       "1  84900               3431                356  MOBEXRGVAC6TJT4F          4.6   \n",
       "2  84900               3431                356  MOBEXRGVGETABXWZ          4.6   \n",
       "3  77000              11202                794  MOBEXRGVMZWUHCBA          NaN   \n",
       "4  77000              11202                794  MOBEXRGVPK7PFEJZ          4.5   \n",
       "\n",
       "    Ram  \n",
       "0  2 GB  \n",
       "1  2 GB  \n",
       "2  2 GB  \n",
       "3  2 GB  \n",
       "4  2 GB  "
      ]
     },
     "execution_count": 3,
     "metadata": {},
     "output_type": "execute_result"
    }
   ],
   "source": [
    "df.head()"
   ]
  },
  {
   "cell_type": "code",
   "execution_count": 6,
   "id": "c6e2c169-f8b9-45d4-b6aa-6e5eb622b417",
   "metadata": {},
   "outputs": [],
   "source": [
    "# 4- create a new column in the dataframe \"Discount_Percentage\" based on MRP and sale value\n",
    "# 5- which model has highest percent discount ?\n",
    "\n",
    "df['Discount_Percentage'] = ((df['Mrp'] - df['Sale Price'])/ df['Mrp']) * 100"
   ]
  },
  {
   "cell_type": "code",
   "execution_count": 7,
   "id": "530b66e9-9ce7-4956-961b-feb1992a53ba",
   "metadata": {},
   "outputs": [
    {
     "data": {
      "text/plain": [
       "29.644465290806753"
      ]
     },
     "execution_count": 7,
     "metadata": {},
     "output_type": "execute_result"
    }
   ],
   "source": [
    "df['Discount_Percentage'].max()"
   ]
  },
  {
   "cell_type": "code",
   "execution_count": 10,
   "id": "9011aa82-3fec-46d5-8966-33a108572b19",
   "metadata": {},
   "outputs": [],
   "source": [
    "sorted_df = df.sort_values(by='Discount_Percentage', ascending=False)\n"
   ]
  },
  {
   "cell_type": "code",
   "execution_count": 11,
   "id": "e04c6074-d55b-427d-85e9-eed6df47734e",
   "metadata": {},
   "outputs": [],
   "source": [
    "# 5- which model has highest percent discount ?\n",
    "\n",
    "# Get the model with the highest discount and its corresponding percentage\n",
    "model_with_highest_discount = sorted_df.iloc[0]['Product Name']"
   ]
  },
  {
   "cell_type": "code",
   "execution_count": 12,
   "id": "61f2dde3-fdde-42d7-a442-07953fdf489a",
   "metadata": {},
   "outputs": [
    {
     "data": {
      "text/plain": [
       "'APPLE iPhone 11 Pro (Midnight Green, 64 GB)'"
      ]
     },
     "execution_count": 12,
     "metadata": {},
     "output_type": "execute_result"
    }
   ],
   "source": [
    "model_with_highest_discount"
   ]
  },
  {
   "cell_type": "code",
   "execution_count": 15,
   "id": "e5c70a45-0bd9-4b8e-8764-162036218519",
   "metadata": {},
   "outputs": [],
   "source": [
    "# Get the model with the highest discount and its corresponding percentage\n",
    "highest_discount_percentage = sorted_df.iloc[0]['Discount_Percentage']"
   ]
  },
  {
   "cell_type": "code",
   "execution_count": 16,
   "id": "b14d0584-98b6-4f62-b3b8-7127bc8df492",
   "metadata": {},
   "outputs": [
    {
     "data": {
      "text/plain": [
       "29.644465290806753"
      ]
     },
     "execution_count": 16,
     "metadata": {},
     "output_type": "execute_result"
    }
   ],
   "source": [
    "highest_discount_percentage"
   ]
  },
  {
   "cell_type": "code",
   "execution_count": null,
   "id": "cc216cad-97ac-4b48-b8de-54a735307617",
   "metadata": {},
   "outputs": [],
   "source": []
  }
 ],
 "metadata": {
  "kernelspec": {
   "display_name": "Python 3 (ipykernel)",
   "language": "python",
   "name": "python3"
  },
  "language_info": {
   "codemirror_mode": {
    "name": "ipython",
    "version": 3
   },
   "file_extension": ".py",
   "mimetype": "text/x-python",
   "name": "python",
   "nbconvert_exporter": "python",
   "pygments_lexer": "ipython3",
   "version": "3.10.0"
  }
 },
 "nbformat": 4,
 "nbformat_minor": 5
}
